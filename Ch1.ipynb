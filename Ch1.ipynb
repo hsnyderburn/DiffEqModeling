{
 "cells": [
  {
   "cell_type": "code",
   "execution_count": null,
   "metadata": {},
   "outputs": [],
   "source": []
  },
  {
   "cell_type": "markdown",
   "metadata": {},
   "source": [
    "## Ch. 1 Introduction to Differential Equations\n",
    "\n",
    "Differential Equations are equations containing the derivatives of one or more dependent variables, with respect to one or more independent variables. \n",
    "\n",
    "We classify DiffEqs by type, order, and linearity.\n",
    "\n",
    "Ordinary Differential Equations (ODEs) contain only ordinary derivatives of one or more depenent variables with respect to a single independent variable.\n",
    "\n"
   ]
  }
 ],
 "metadata": {
  "language_info": {
   "name": "python"
  }
 },
 "nbformat": 4,
 "nbformat_minor": 2
}
